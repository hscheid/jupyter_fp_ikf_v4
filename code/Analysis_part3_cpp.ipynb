{
 "cells": [
  {
   "cell_type": "markdown",
   "id": "49e138dd",
   "metadata": {},
   "source": [
    "Einbinden der verwendeten Klassen, nicht zwingend notwendig."
   ]
  },
  {
   "cell_type": "code",
   "execution_count": 1,
   "id": "823e4b84",
   "metadata": {},
   "outputs": [],
   "source": [
    "#include <iostream>\n",
    "#include \"TGraphErrors.h\"\n",
    "#include \"TF1.h\""
   ]
  },
  {
   "cell_type": "markdown",
   "id": "40f04996",
   "metadata": {},
   "source": [
    "Die aufgenommenen Datenpaare werden als `double value` in zwei Arrays gespeichert."
   ]
  },
  {
   "cell_type": "code",
   "execution_count": 2,
   "id": "559a1624",
   "metadata": {},
   "outputs": [],
   "source": [
    "double xValues[] = {50.,60.,70.,72.,74.,76.,78.,80.,90.,100.};\n",
    "double yValues[] = {7000,7000,7000,7300,9540, 12320, 13600, 14000,14000,14000};"
   ]
  },
  {
   "cell_type": "markdown",
   "id": "f7e08508",
   "metadata": {},
   "source": [
    "Um sicher zu gehen, dass die Arrays die gleiche länge haben vergleichen wir diese. Da wir bei standart `c++` arrays keine Möglichkeit haben die länge direkt abzufragen gehen wir einen umweg und schauen wie of das erste Element in das gesammte Array passt. Im Fall, dass beide Arrays unterschiedlich lang sind, geben wir eine meldung aus, und beenden das Programm mit einem Rückgabewert `0`."
   ]
  },
  {
   "cell_type": "code",
   "execution_count": 3,
   "id": "6fa13f5a",
   "metadata": {},
   "outputs": [],
   "source": [
    "const int sizeX = sizeof(xValues)/sizeof(xValues[0]);\n",
    "const int sizeY = sizeof(yValues)/sizeof(yValues[0]);\n",
    "if(sizeY != sizeX)\n",
    "{\n",
    "    std::cout << \"Not the same number of X and Y entries. Abort!\" << '\\n';\n",
    "    return 0;\n",
    "}"
   ]
  },
  {
   "cell_type": "markdown",
   "id": "ab08c15d",
   "metadata": {},
   "source": [
    "Jedes Wertepaar in x-y hat auch einen Fehler in x und y richtung. Wir gehen davon aus, dass diese für alle Punkte gleich sind. Dazu werden zwei Arrays angelegt, mit der gleichen länge wie die mit den Messdaten."
   ]
  },
  {
   "cell_type": "code",
   "execution_count": 4,
   "id": "c559e2b8",
   "metadata": {},
   "outputs": [],
   "source": [
    "  // die fehler der X und Y werte:\n",
    "  double uncertaintyX = 2.5;\n",
    "  double uncertaintyY = 100.;\n",
    "  // um die fehler in X und Y zu speichern brauchen wir arrays mit der gleichen anzahl einträge wie zufor\n",
    "  double xError[sizeX];\n",
    "  double yError[sizeY];\n",
    "  // die fehler auf der X und Y Achse können wir in einem loop in arrays schreiben\n",
    "  for (int i = 0; i < sizeX; i++) {\n",
    "    xError[i] = uncertaintyX;\n",
    "    yError[i] = uncertaintyY;\n",
    "  }"
   ]
  },
  {
   "cell_type": "markdown",
   "id": "c9a3da29",
   "metadata": {},
   "source": [
    "Ein Object der Klasse `TGraphErrors` kann direkt mit den oben definierten Arrays erzeugt werden.\n",
    "Hierbei müssen wir dem Konstruktor die anzahl der Datenpunkte als `int` übergeben, gefolgt von arrays, die die werte und ihre Fehler enthalten.\n",
    "\n",
    "Um unseren Graphen noch ansehnlich zu gestallten nutzen wir die Funktionen um den Stil der darstellung zu verändern."
   ]
  },
  {
   "cell_type": "code",
   "execution_count": 5,
   "id": "a24ae557",
   "metadata": {},
   "outputs": [],
   "source": [
    "TGraphErrors *gr = new TGraphErrors(sizeX,xValues,yValues,xError,yError);\n",
    "gr->SetMarkerStyle(20);\n",
    "gr->SetMarkerSize(1.2);\n",
    "gr->SetMarkerColor(kBlue+1);\n",
    "gr->SetLineColor(kBlue+1);\n",
    "gr->SetLineWidth(2);"
   ]
  },
  {
   "cell_type": "markdown",
   "id": "e5aae047",
   "metadata": {},
   "source": [
    "Jetzt brauchen wir noch unsere Funktion. Wir erzeugen ein Object der Klasse TF1. Hierbei können wir eine mathematische function definieren (im 2ten `\"...\"` Block) in `[]` stehen die \"freien\" Parameter der Funktion die bei einem Fit verändert werden können um die Daten am besten zu beschreiben"
   ]
  },
  {
   "cell_type": "code",
   "execution_count": 6,
   "id": "0e11e914",
   "metadata": {},
   "outputs": [],
   "source": [
    "TF1* func = new TF1(\"func\",\"[0] - ([0]/ ( exp((x-[1]) /[2] ) +2 ) )\",50 ,100);"
   ]
  },
  {
   "cell_type": "markdown",
   "id": "bb5c56c0",
   "metadata": {},
   "source": [
    "Es ist sinnvoll die freien Parameter auf realistische Startwerte für die Optimierung zu setzen. Hierzu benutzen wir die Funktion `SetParameter(par,val)` die den parameter `par` auf einen Wert `val` setzt."
   ]
  },
  {
   "cell_type": "code",
   "execution_count": 7,
   "id": "0312273c",
   "metadata": {},
   "outputs": [],
   "source": [
    "func->SetParameter(0,14000);\n",
    "func->SetParameter(1,75);\n",
    "func->SetParameter(2,3);"
   ]
  },
  {
   "cell_type": "markdown",
   "id": "ab05a859",
   "metadata": {},
   "source": [
    "Der Fit des Graphs gr mit der Funktion `func` in ihrem Definitionsbereich. Die angepassten Werte der Parameter sind als ausgabe auf der Kommandozeile zu sehen."
   ]
  },
  {
   "cell_type": "code",
   "execution_count": 8,
   "id": "3a009ef9",
   "metadata": {
    "scrolled": true
   },
   "outputs": [
    {
     "name": "stdout",
     "output_type": "stream",
     "text": [
      " FCN=0.201038 FROM MIGRAD    STATUS=CONVERGED     107 CALLS         108 TOTAL\n",
      "                     EDM=4.18882e-08    STRATEGY= 1      ERROR MATRIX ACCURATE \n",
      "  EXT PARAMETER                                   STEP         FIRST   \n",
      "  NO.   NAME      VALUE            ERROR          SIZE      DERIVATIVE \n",
      "   1  p0           1.40021e+04   5.59750e+01   2.96875e-02   1.66392e-06\n",
      "   2  p1           7.43313e+01   1.05840e+00   4.95151e-04  -2.90589e-04\n",
      "   3  p2           9.31574e-01   3.73095e-01   1.74575e-04  -6.32183e-04\n"
     ]
    }
   ],
   "source": [
    "gr->Fit(func,\"R\");"
   ]
  },
  {
   "cell_type": "markdown",
   "id": "175e45f5",
   "metadata": {},
   "source": [
    "Zunächst erzeigen wir ein obje\n",
    "Wir malen den Graph nun. Hierbei sind folgende optionen relevant:\n",
    "* A: Die Achsen des Graphen werden gemalt\n",
    "* P: Die Punkte werden gemalt\n",
    "* E: Die Fehler werden gemalt\n",
    "Mit der option \"same\" wird die Funktion ins gleiche Canvas wie die Datenpunkte gemalt."
   ]
  },
  {
   "cell_type": "code",
   "execution_count": 9,
   "id": "88aa1185",
   "metadata": {},
   "outputs": [
    {
     "data": {
      "image/png": "[encoded data removed]",
      "text/plain": [
       "<IPython.core.display.Image object>"
      ]
     },
     "metadata": {},
     "output_type": "display_data"
    }
   ],
   "source": [
    "auto can = new TCanvas(\"can\",\"can\",800,800);\n",
    "gr->Draw(\"APE\");\n",
    "func->Draw(\"same\");\n",
    "can->Draw();"
   ]
  },
  {
   "cell_type": "markdown",
   "id": "edb99a69",
   "metadata": {},
   "source": [
    "Im Graphen oben sollten die Datenpunkte mit ihren Fehlern in blau zu sehen sein. Ausserdem sollte die Anpassung der zuvor definierten Funktion an die datenPunkte zu sehen sein."
   ]
  },
  {
   "cell_type": "code",
   "execution_count": null,
   "id": "83aa5d8d",
   "metadata": {},
   "outputs": [],
   "source": []
  }
 ],
 "metadata": {
  "kernelspec": {
   "display_name": "ROOT C++",
   "language": "c++",
   "name": "root"
  },
  "language_info": {
   "codemirror_mode": "text/x-c++src",
   "file_extension": ".C",
   "mimetype": " text/x-c++src",
   "name": "c++"
  }
 },
 "nbformat": 4,
 "nbformat_minor": 5
}
