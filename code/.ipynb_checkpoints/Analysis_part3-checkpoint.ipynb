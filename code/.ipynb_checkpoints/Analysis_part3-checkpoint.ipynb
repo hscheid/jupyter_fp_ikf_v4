{
 "cells": [
  {
   "cell_type": "code",
   "execution_count": 1,
   "id": "22f750c2",
   "metadata": {},
   "outputs": [],
   "source": [
    "#include <iostream>\n",
    "#include \"TGraphErrors.h\"\n",
    "#include \"TF1.h\""
   ]
  },
  {
   "cell_type": "code",
   "execution_count": 2,
   "id": "20140e73",
   "metadata": {},
   "outputs": [],
   "source": [
    "double xValues[] = {50.,60.,70.,72.,74.,76.,78.,80.,90.,100.};\n",
    "double yValues[] = {7000,7000,7000,7300,9540, 12320, 13600, 14000,14000,14000};"
   ]
  },
  {
   "cell_type": "code",
   "execution_count": 3,
   "id": "a141321f",
   "metadata": {},
   "outputs": [],
   "source": [
    "const int sizeX = sizeof(xValues)/sizeof(xValues[0]);\n",
    "const int sizeY = sizeof(xValues)/sizeof(yValues[0]);\n",
    "if(sizeY != sizeX)\n",
    "{\n",
    "    std::cout << \"Not the same number of X and Y entries. Abort!\" << '\\n';\n",
    "    return 0;\n",
    "}"
   ]
  },
  {
   "cell_type": "markdown",
   "id": "af8f273d",
   "metadata": {},
   "source": [
    "Ein Object der Klasse `TGraphErrors` kann direkt mit den oben definierten Arrays erzeugt werden.\n",
    "Hierbei müssen wir dem Konstruktor die anzahl der Datenpunkte als `int` übergeben, gefolgt von arrays, die die werte und ihre Fehler enthalten.\n",
    "\n",
    "Um unseren Graphen noch ansehnlich zu gestallten nutzen wir die Funktionen um den Stil der darstellung zu verändern."
   ]
  },
  {
   "cell_type": "code",
   "execution_count": 4,
   "id": "eed9d421",
   "metadata": {},
   "outputs": [],
   "source": [
    "  // die fehler der X und Y werte:\n",
    "  double uncertaintyX = 2.5;\n",
    "  double uncertaintyY = 100.;\n",
    "  // um die fehler in X und Y zu speichern brauchen wir arrays mit der gleichen anzahl einträge wie zufor\n",
    "  double xError[sizeX];\n",
    "  double yError[sizeY];\n",
    "  // die fehler auf der X und Y Achse können wir in einem loop in arrays schreiben\n",
    "  for (int i = 0; i < sizeX; i++) {\n",
    "    xError[i] = uncertaintyX;\n",
    "    yError[i] = uncertaintyY;\n",
    "  }"
   ]
  },
  {
   "cell_type": "markdown",
   "id": "7b8b2b66",
   "metadata": {},
   "source": [
    "Ein Object der Klasse `TGraphErrors` kann direkt mit den oben definierten Arrays erzeugt werden.\n",
    "Hierbei müssen wir dem Konstruktor die anzahl der Datenpunkte als `int` übergeben, gefolgt von arrays, die die werte und ihre Fehler enthalten.\n",
    "\n",
    "Um unseren Graphen noch ansehnlich zu gestallten nutzen wir die Funktionen um den Stil der darstellung zu verändern."
   ]
  },
  {
   "cell_type": "code",
   "execution_count": 5,
   "id": "5ecbf3b9",
   "metadata": {},
   "outputs": [],
   "source": [
    "TGraphErrors *gr = new TGraphErrors(sizeX,xValues,yValues,xError,yError);\n",
    "gr->SetMarkerStyle(20);\n",
    "gr->SetMarkerSize(1.2);\n",
    "gr->SetMarkerColor(kBlue+1);\n",
    "gr->SetLineColor(kBlue+1);\n",
    "gr->SetLineWidth(2);"
   ]
  },
  {
   "cell_type": "markdown",
   "id": "2baf71db",
   "metadata": {},
   "source": [
    "Jetzt brauchen wir noch unsere Funktion. Wir erzeugen ein Object der Klasse TF1. Hierbei können wir eine mathematische function definieren (im 2ten `\"...\"` Block) in `[]` stehen die \"freien\" Parameter der Funktion die bei einem Fit verändert werden können um die Daten am besten zu beschreiben"
   ]
  },
  {
   "cell_type": "code",
   "execution_count": 6,
   "id": "2d7c1e0c",
   "metadata": {},
   "outputs": [],
   "source": [
    "TF1* func = new TF1(\"func\",\"[0] - ([0]/ ( exp((x-[1]) /[2] ) +2 ) )\",50 ,100);"
   ]
  },
  {
   "cell_type": "markdown",
   "id": "e556c53d",
   "metadata": {},
   "source": [
    "Es ist sinnvoll die freien Parameter auf realistische Startwerte für die Optimierung zu setzen. Hierzu benutzen wir die Funktion `SetParameter(par,val)` die den parameter `par` auf einen Wert `val` setzt."
   ]
  },
  {
   "cell_type": "code",
   "execution_count": 7,
   "id": "bb33959a",
   "metadata": {},
   "outputs": [],
   "source": [
    "func->SetParameter(0,14000);\n",
    "func->SetParameter(1,75);\n",
    "func->SetParameter(2,3);"
   ]
  },
  {
   "cell_type": "markdown",
   "id": "51d80859",
   "metadata": {},
   "source": [
    "Der Fit des Graphs gr mit der Funktion func in ihrer range"
   ]
  },
  {
   "cell_type": "code",
   "execution_count": 8,
   "id": "04cba386",
   "metadata": {
    "scrolled": true
   },
   "outputs": [
    {
     "name": "stdout",
     "output_type": "stream",
     "text": [
      " FCN=0.201038 FROM MIGRAD    STATUS=CONVERGED     107 CALLS         108 TOTAL\n",
      "                     EDM=4.18882e-08    STRATEGY= 1      ERROR MATRIX ACCURATE \n",
      "  EXT PARAMETER                                   STEP         FIRST   \n",
      "  NO.   NAME      VALUE            ERROR          SIZE      DERIVATIVE \n",
      "   1  p0           1.40021e+04   5.59750e+01   2.96875e-02   1.66392e-06\n",
      "   2  p1           7.43313e+01   1.05840e+00   4.95151e-04  -2.90589e-04\n",
      "   3  p2           9.31574e-01   3.73095e-01   1.74575e-04  -6.32183e-04\n"
     ]
    }
   ],
   "source": [
    "gr->Fit(func,\"R\");"
   ]
  },
  {
   "cell_type": "markdown",
   "id": "65bb13fd",
   "metadata": {},
   "source": [
    "Wir malen den Graph nun. Hierbei sind folgende optionen relevant:\n",
    "* A: Die Achsen des Graphen werden gemalt\n",
    "* P: Die Punkte werden gemalt\n",
    "* E: Die Fehler werden gemalt\n",
    "Mit der option \"same\" wird die Funktion ins gleiche Canvas wie die Datenpunkte gemalt."
   ]
  },
  {
   "cell_type": "code",
   "execution_count": 9,
   "id": "99952d58",
   "metadata": {},
   "outputs": [
    {
     "name": "stderr",
     "output_type": "stream",
     "text": [
      "Info in <TCanvas::MakeDefCanvas>:  created default TCanvas with name c1\n"
     ]
    }
   ],
   "source": [
    "gr->Draw(\"APE\");\n",
    "func->Draw(\"same\");"
   ]
  },
  {
   "cell_type": "raw",
   "id": "9ef3bffc",
   "metadata": {},
   "source": []
  }
 ],
 "metadata": {
  "kernelspec": {
   "display_name": "ROOT C++",
   "language": "c++",
   "name": "root"
  },
  "language_info": {
   "codemirror_mode": "text/x-c++src",
   "file_extension": ".C",
   "mimetype": " text/x-c++src",
   "name": "c++"
  }
 },
 "nbformat": 4,
 "nbformat_minor": 5
}
