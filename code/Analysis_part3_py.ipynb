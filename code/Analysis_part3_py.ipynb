{
 "cells": [
  {
   "cell_type": "markdown",
   "id": "1ffc21f8",
   "metadata": {},
   "source": [
    "Include useful packages:"
   ]
  },
  {
   "cell_type": "code",
   "execution_count": 86,
   "id": "73adccf7",
   "metadata": {},
   "outputs": [],
   "source": [
    "import os\n",
    "import numpy as np\n",
    "import matplotlib.pyplot as plt\n",
    "from scipy.optimize import curve_fit"
   ]
  },
  {
   "cell_type": "markdown",
   "id": "a8294569",
   "metadata": {},
   "source": [
    "The data points can be stored in numpy arrays"
   ]
  },
  {
   "cell_type": "code",
   "execution_count": 87,
   "id": "c6762544",
   "metadata": {},
   "outputs": [
    {
     "name": "stdout",
     "output_type": "stream",
     "text": [
      "[50.  50.1 50.2 50.3 50.4 50.5 50.6 50.7 50.8 50.9 51.  51.1 51.2 51.3\n",
      " 51.4 51.5 51.6 51.7 51.8 51.9 52.  52.1 52.2 52.3 52.4 52.5 52.6 52.7\n",
      " 52.8 52.9 53.  53.1 53.2 53.3 53.4 53.5 53.6 53.7 53.8 53.9 54.  54.1\n",
      " 54.2 54.3 54.4 54.5 54.6 54.7 54.8 54.9 55.  55.1 55.2 55.3 55.4 55.5\n",
      " 55.6 55.7 55.8 55.9 56.  56.1 56.2 56.3 56.4 56.5 56.6 56.7 56.8 56.9\n",
      " 57.  57.1 57.2 57.3 57.4 57.5 57.6 57.7 57.8 57.9 58.  58.1 58.2 58.3\n",
      " 58.4 58.5 58.6 58.7 58.8 58.9 59.  59.1 59.2 59.3 59.4 59.5 59.6 59.7\n",
      " 59.8 59.9 60.  60.1 60.2 60.3 60.4 60.5 60.6 60.7 60.8 60.9 61.  61.1\n",
      " 61.2 61.3 61.4 61.5 61.6 61.7 61.8 61.9 62.  62.1 62.2 62.3 62.4 62.5\n",
      " 62.6 62.7 62.8 62.9 63.  63.1 63.2 63.3 63.4 63.5 63.6 63.7 63.8 63.9\n",
      " 64.  64.1 64.2 64.3 64.4 64.5 64.6 64.7 64.8 64.9 65.  65.1 65.2 65.3\n",
      " 65.4 65.5 65.6 65.7 65.8 65.9 66.  66.1 66.2 66.3 66.4 66.5 66.6 66.7\n",
      " 66.8 66.9 67.  67.1 67.2 67.3 67.4 67.5 67.6 67.7 67.8 67.9 68.  68.1\n",
      " 68.2 68.3 68.4 68.5 68.6 68.7 68.8 68.9 69.  69.1 69.2 69.3 69.4 69.5\n",
      " 69.6 69.7 69.8 69.9 70.  70.1 70.2 70.3 70.4 70.5 70.6 70.7 70.8 70.9\n",
      " 71.  71.1 71.2 71.3 71.4 71.5 71.6 71.7 71.8 71.9 72.  72.1 72.2 72.3\n",
      " 72.4 72.5 72.6 72.7 72.8 72.9 73.  73.1 73.2 73.3 73.4 73.5 73.6 73.7\n",
      " 73.8 73.9 74.  74.1 74.2 74.3 74.4 74.5 74.6 74.7 74.8 74.9 75.  75.1\n",
      " 75.2 75.3 75.4 75.5 75.6 75.7 75.8 75.9 76.  76.1 76.2 76.3 76.4 76.5\n",
      " 76.6 76.7 76.8 76.9 77.  77.1 77.2 77.3 77.4 77.5 77.6 77.7 77.8 77.9\n",
      " 78.  78.1 78.2 78.3 78.4 78.5 78.6 78.7 78.8 78.9 79.  79.1 79.2 79.3\n",
      " 79.4 79.5 79.6 79.7 79.8 79.9 80.  80.1 80.2 80.3 80.4 80.5 80.6 80.7\n",
      " 80.8 80.9 81.  81.1 81.2 81.3 81.4 81.5 81.6 81.7 81.8 81.9 82.  82.1\n",
      " 82.2 82.3 82.4 82.5 82.6 82.7 82.8 82.9 83.  83.1 83.2 83.3 83.4 83.5\n",
      " 83.6 83.7 83.8 83.9 84.  84.1 84.2 84.3 84.4 84.5 84.6 84.7 84.8 84.9\n",
      " 85.  85.1 85.2 85.3 85.4 85.5 85.6 85.7 85.8 85.9 86.  86.1 86.2 86.3\n",
      " 86.4 86.5 86.6 86.7 86.8 86.9 87.  87.1 87.2 87.3 87.4 87.5 87.6 87.7\n",
      " 87.8 87.9 88.  88.1 88.2 88.3 88.4 88.5 88.6 88.7 88.8 88.9 89.  89.1\n",
      " 89.2 89.3 89.4 89.5 89.6 89.7 89.8 89.9 90.  90.1 90.2 90.3 90.4 90.5\n",
      " 90.6 90.7 90.8 90.9 91.  91.1 91.2 91.3 91.4 91.5 91.6 91.7 91.8 91.9\n",
      " 92.  92.1 92.2 92.3 92.4 92.5 92.6 92.7 92.8 92.9 93.  93.1 93.2 93.3\n",
      " 93.4 93.5 93.6 93.7 93.8 93.9 94.  94.1 94.2 94.3 94.4 94.5 94.6 94.7\n",
      " 94.8 94.9 95.  95.1 95.2 95.3 95.4 95.5 95.6 95.7 95.8 95.9 96.  96.1\n",
      " 96.2 96.3 96.4 96.5 96.6 96.7 96.8 96.9 97.  97.1 97.2 97.3 97.4 97.5\n",
      " 97.6 97.7 97.8 97.9 98.  98.1 98.2 98.3 98.4 98.5 98.6 98.7 98.8 98.9\n",
      " 99.  99.1 99.2 99.3 99.4 99.5 99.6 99.7 99.8 99.9]\n"
     ]
    }
   ],
   "source": [
    "xvalues = np.array([50.0,60.0,70.0,72.0,74.0,76.0,78.0,80.0,90.0,100.0])\n",
    "yvalues = np.array([7000,7000,7000,7300,9540, 12320, 13600, 14000,14000,14000])\n",
    "yerrors = np.array(yvalues.size*[100])\n",
    "\n",
    "ax = np.arange(50,100,0.1) # extra x axis from 50 to 100 in small steps for drawing later\n",
    "# print(ax)"
   ]
  },
  {
   "cell_type": "markdown",
   "id": "12fb590e",
   "metadata": {},
   "source": [
    "Create a plot with the data defined above"
   ]
  },
  {
   "cell_type": "code",
   "execution_count": 88,
   "id": "d85b4fe2",
   "metadata": {},
   "outputs": [
    {
     "data": {
      "image/png": "[encoded data removed]",
      "text/plain": [
       "<Figure size 576x576 with 1 Axes>"
      ]
     },
     "metadata": {
      "needs_background": "light"
     },
     "output_type": "display_data"
    }
   ],
   "source": [
    "# plt.rcParams[\"figure.figsize\"] = (8,8)\n",
    "plt.plot(xvalues,yvalues,\"o\")\n",
    "plt.show()"
   ]
  },
  {
   "cell_type": "markdown",
   "id": "37a00ee5",
   "metadata": {},
   "source": [
    "Lets define a function do parametrise the data"
   ]
  },
  {
   "cell_type": "code",
   "execution_count": 89,
   "id": "c90e0a75",
   "metadata": {},
   "outputs": [],
   "source": [
    "def fermi(x,A,B,C):\n",
    "    \"\"\"A function with the shape of a fermi-dirac distribution\"\"\"\n",
    "    \"\"\"Todo: Add proper variable names\"\"\"\n",
    "    y = ( A - ( A/ ( np.exp( (x-B) /C ) +2 ) ) )\n",
    "    return y"
   ]
  },
  {
   "cell_type": "markdown",
   "id": "3910190a",
   "metadata": {},
   "source": [
    "We use the `curve_fit` function from the scipy optimize module to fit our data."
   ]
  },
  {
   "cell_type": "code",
   "execution_count": 90,
   "id": "f2ee2101",
   "metadata": {},
   "outputs": [],
   "source": [
    "startValues = [14000.,75.,3.]\n",
    "parameters, covariance = curve_fit(fermi, xvalues, yvalues, startValues)\n",
    "# parameters, covariance = curve_fit(fermi, xvalues, yvalues, startValues, yerrors, True)"
   ]
  },
  {
   "cell_type": "code",
   "execution_count": 93,
   "id": "f37a71cc",
   "metadata": {},
   "outputs": [
    {
     "name": "stdout",
     "output_type": "stream",
     "text": [
      "fit_A:  13960.890273869798\n",
      "fit_B:  73.93285020108559\n",
      "fit_C:  1.0692251340333283\n",
      "cov: \n",
      " [[ 2.91838770e+03  1.65047173e+00  5.40222706e-01]\n",
      " [ 1.65047173e+00  5.34783495e-03 -1.35114371e-03]\n",
      " [ 5.40222706e-01 -1.35114371e-03  2.58534591e-03]]\n"
     ]
    }
   ],
   "source": [
    "fit_A = parameters[0]\n",
    "fit_B = parameters[1]\n",
    "fit_C = parameters[2]\n",
    "# was:\n",
    "# fit_A = parameters[0]\n",
    "# fit_C = parameters[1]\n",
    "# fit_B = parameters[2]\n",
    "\n",
    "print(\"fit_A: \", fit_A)\n",
    "print(\"fit_B: \", fit_B)\n",
    "print(\"fit_C: \", fit_C)\n",
    "fit_y = fermi(ax,fit_A,fit_B,fit_C)\n",
    "print(\"cov: \\n\", covariance)"
   ]
  },
  {
   "cell_type": "code",
   "execution_count": 94,
   "id": "530c07b2",
   "metadata": {
    "scrolled": false
   },
   "outputs": [
    {
     "data": {
      "image/png": "[encoded data removed]",
      "text/plain": [
       "<Figure size 576x576 with 1 Axes>"
      ]
     },
     "metadata": {
      "needs_background": "light"
     },
     "output_type": "display_data"
    }
   ],
   "source": [
    "plt.plot(xvalues,yvalues,\"o\")\n",
    "# plt.plot(xvalues,fit_y,\"-\")\n",
    "plt.plot(ax,fit_y,\"-\")\n",
    "plt.show()"
   ]
  },
  {
   "cell_type": "code",
   "execution_count": null,
   "id": "096716cc",
   "metadata": {},
   "outputs": [],
   "source": []
  },
  {
   "cell_type": "code",
   "execution_count": null,
   "id": "d08a8a66",
   "metadata": {},
   "outputs": [],
   "source": []
  }
 ],
 "metadata": {
  "kernelspec": {
   "display_name": "Python 3 (ipykernel)",
   "language": "python",
   "name": "python3"
  },
  "language_info": {
   "codemirror_mode": {
    "name": "ipython",
    "version": 3
   },
   "file_extension": ".py",
   "mimetype": "text/x-python",
   "name": "python",
   "nbconvert_exporter": "python",
   "pygments_lexer": "ipython3",
   "version": "3.9.9"
  }
 },
 "nbformat": 4,
 "nbformat_minor": 5
}
