{
 "cells": [
  {
   "cell_type": "markdown",
   "id": "ac1c92e5",
   "metadata": {},
   "source": [
    "Include useful packages:"
   ]
  },
  {
   "cell_type": "code",
   "execution_count": 1,
   "id": "a4cd9339",
   "metadata": {},
   "outputs": [],
   "source": [
    "import os\n",
    "import numpy as np\n",
    "import matplotlib.pyplot as plt\n",
    "from scipy.optimize import curve_fit"
   ]
  },
  {
   "cell_type": "markdown",
   "id": "a5810c77",
   "metadata": {},
   "source": [
    "The data points can be stored in numpy arrays"
   ]
  },
  {
   "cell_type": "code",
   "execution_count": 2,
   "id": "a183b7fd",
   "metadata": {},
   "outputs": [],
   "source": [
    "xvalues_1V = np.array([50.0,60.0,70.0,72.0,74.0,76.0,78.0,80.0,90.0,100.0])\n",
    "yvalues_1V = np.array([7000,7000,7000,7300,9540, 12320, 13600, 14000,14000,14000])\n",
    "yerrors_1V = np.array(yvalues_1V.size*[100])\n",
    "\n",
    "ax = np.arange(50,100,0.1) # extra x axis from 50 to 100 in small steps for drawing later\n",
    "# print(ax)"
   ]
  },
  {
   "cell_type": "markdown",
   "id": "a10bd30e",
   "metadata": {},
   "source": [
    "Create a plot with the data defined above"
   ]
  },
  {
   "cell_type": "code",
   "execution_count": 3,
   "id": "24f33027",
   "metadata": {},
   "outputs": [
    {
     "data": {
      "image/png": "[encoded data removed]",
      "text/plain": [
       "<Figure size 432x288 with 1 Axes>"
      ]
     },
     "metadata": {
      "needs_background": "light"
     },
     "output_type": "display_data"
    }
   ],
   "source": [
    "# plt.rcParams[\"figure.figsize\"] = (8,8)\n",
    "plt.plot(xvalues_1V,yvalues_1V,\"o\")\n",
    "plt.show()"
   ]
  },
  {
   "cell_type": "markdown",
   "id": "60cac784",
   "metadata": {},
   "source": [
    "Lets define a function do parametrise the data"
   ]
  },
  {
   "cell_type": "code",
   "execution_count": 4,
   "id": "3c1059fe",
   "metadata": {},
   "outputs": [],
   "source": [
    "def fermi(x,A,B,C):\n",
    "    \"\"\"A function with the shape of a fermi-dirac distribution\"\"\"\n",
    "    \"\"\"Todo: Add proper variable names\"\"\"\n",
    "    y = ( A - ( A/ ( np.exp( (x-B) /C ) +2 ) ) )\n",
    "    return y"
   ]
  },
  {
   "cell_type": "markdown",
   "id": "c8c8fa7d",
   "metadata": {},
   "source": [
    "We use the `curve_fit` function from the scipy optimize module to fit our data."
   ]
  },
  {
   "cell_type": "code",
   "execution_count": 5,
   "id": "f3a83b0b",
   "metadata": {},
   "outputs": [],
   "source": [
    "startValues_1V = [14000.,75.,3.]\n",
    "parameters_1V, covariance_1V = curve_fit(fermi, xvalues_1V, yvalues_1V, startValues_1V)\n",
    "# parameters, covariance = curve_fit(fermi, xvalues, yvalues, startValues, yerrors, True)"
   ]
  },
  {
   "cell_type": "code",
   "execution_count": 6,
   "id": "94cb1d9d",
   "metadata": {},
   "outputs": [
    {
     "name": "stdout",
     "output_type": "stream",
     "text": [
      "fit_A:  13960.890273869798\n",
      "fit_B:  73.93285020108559\n",
      "fit_C:  1.0692251340333283\n",
      "cov:\n",
      " fit_A:  2918.3876971606414 \n",
      " fit_B:  0.005347834950045586 \n",
      " fit_C:  0.0025853459067430922 \n",
      "\n"
     ]
    }
   ],
   "source": [
    "fit_A_1V = parameters_1V[0]\n",
    "fit_B_1V = parameters_1V[1]\n",
    "fit_C_1V = parameters_1V[2]\n",
    "# was:\n",
    "# fit_A = parameters[0]\n",
    "# fit_C = parameters[1]\n",
    "# fit_B = parameters[2]\n",
    "\n",
    "print(\"fit_A: \", fit_A_1V)\n",
    "print(\"fit_B: \", fit_B_1V)\n",
    "print(\"fit_C: \", fit_C_1V)\n",
    "fit_y_1V = fermi(ax,fit_A_1V,fit_B_1V,fit_C_1V)\n",
    "# in the diagonal elements of the covariance matrix we can find the uncertainties of the n-th parameter\n",
    "print(\"cov:\\n\", \"fit_A: \", covariance_1V[0][0],\"\\n\", \"fit_B: \", covariance_1V[1][1],\"\\n\", \"fit_C: \", covariance_1V[2][2],\"\\n\")"
   ]
  },
  {
   "cell_type": "code",
   "execution_count": 7,
   "id": "2994fded",
   "metadata": {
    "scrolled": false
   },
   "outputs": [
    {
     "data": {
      "image/png": "[encoded data removed]",
      "text/plain": [
       "<Figure size 432x288 with 1 Axes>"
      ]
     },
     "metadata": {
      "needs_background": "light"
     },
     "output_type": "display_data"
    }
   ],
   "source": [
    "plt.plot(xvalues_1V,yvalues_1V,\"o\")\n",
    "# plt.plot(xvalues,fit_y,\"-\")\n",
    "plt.plot(ax,fit_y_1V,\"-\")\n",
    "plt.show()"
   ]
  },
  {
   "cell_type": "markdown",
   "id": "42ea349d",
   "metadata": {},
   "source": [
    "We can now redo the exercise above to fo the other voltage settings.\n",
    "\n",
    "Lets start with defining the x and y axis for our measurements again."
   ]
  },
  {
   "cell_type": "code",
   "execution_count": 8,
   "id": "879dc489",
   "metadata": {},
   "outputs": [],
   "source": [
    "# Start with the 4.5V\n",
    "# we can not use . in the naming of a variable, so just 4 has to do\n",
    "xvalues_4V = np.array([55.0,65.0,75.0,77.0,79.0,81.0,83.0,85.0,95.0,105.0])\n",
    "yvalues_4V = np.array([7000,7000,7000,7300,9540, 12320, 13600, 14000,14000,14000])\n",
    "\n",
    "xvalues_8V = np.array([60.0,70.0,80.0,82.0,84.0,86.0,88.0,90.0,100.0,110.0])\n",
    "yvalues_8V = np.array([7000,7000,7000,7300,9540, 12320, 13600, 14000,14000,14000])\n",
    "# Note: I took the same y values everywhere. in reality this was probably not the case.\n",
    "\n",
    "ax_long = np.arange(50,110,0.1) # another extra axis. we now draw further than 100 in x direction"
   ]
  },
  {
   "cell_type": "markdown",
   "id": "a6fb431b",
   "metadata": {},
   "source": [
    "We now want to fit the same function ans above with the new values. We will try first with the same start parameters as the 1V case."
   ]
  },
  {
   "cell_type": "code",
   "execution_count": 9,
   "id": "0a8e0a73",
   "metadata": {},
   "outputs": [
    {
     "name": "stderr",
     "output_type": "stream",
     "text": [
      "<ipython-input-4-f263287128f6>:4: RuntimeWarning: overflow encountered in exp\n",
      "  y = ( A - ( A/ ( np.exp( (x-B) /C ) +2 ) ) )\n",
      "/Users/misc/alice/sw/osx_x86-64/Python-modules/1.0-local2/share/python-modules/lib/python/site-packages/scipy/optimize/minpack.py:828: OptimizeWarning: Covariance of the parameters could not be estimated\n",
      "  warnings.warn('Covariance of the parameters could not be estimated',\n"
     ]
    }
   ],
   "source": [
    "parameters_4V, covariance_4V = curve_fit(fermi, xvalues_4V, yvalues_4V, startValues_1V)\n",
    "fit_y_4V = fermi(ax,parameters_4V[0],parameters_4V[1],parameters_4V[2])\n",
    "\n",
    "parameters_8V, covariance_8V = curve_fit(fermi, xvalues_8V, yvalues_8V, startValues_1V)\n",
    "fit_y_8V = fermi(ax,parameters_8V[0],parameters_8V[1],parameters_8V[2])"
   ]
  },
  {
   "cell_type": "markdown",
   "id": "2a46aefd",
   "metadata": {},
   "source": [
    "You can see that the fit is failing an the covariance matrix of our parameters can not be calculated. We can have a look at the parameters and the covariance to check"
   ]
  },
  {
   "cell_type": "code",
   "execution_count": 10,
   "id": "940f1934",
   "metadata": {},
   "outputs": [
    {
     "name": "stdout",
     "output_type": "stream",
     "text": [
      "parameters:\n",
      " [1.38944000e+04 8.47600150e+01 3.39395651e-03]\n",
      "covariance:\n",
      " [[inf inf inf]\n",
      " [inf inf inf]\n",
      " [inf inf inf]]\n"
     ]
    }
   ],
   "source": [
    "print(\"parameters:\\n\", parameters_8V)\n",
    "print(\"covariance:\\n\", covariance_8V)"
   ]
  },
  {
   "cell_type": "markdown",
   "id": "c5fd2cc7",
   "metadata": {},
   "source": [
    "So we set the values to something that might be reasonable and then do the fit again."
   ]
  },
  {
   "cell_type": "code",
   "execution_count": 13,
   "id": "a3e3eff7",
   "metadata": {},
   "outputs": [],
   "source": [
    "startValues_8V = [14000.,84.,3.]\n",
    "parameters_8V, covariance_8V = curve_fit(fermi, xvalues_8V, yvalues_8V, startValues_8V)\n",
    "fit_y_8V = fermi(ax,parameters_8V[0],parameters_8V[1],parameters_8V[2])"
   ]
  },
  {
   "cell_type": "markdown",
   "id": "7391eec3",
   "metadata": {},
   "source": [
    "And we can have a look again and check how it looks"
   ]
  },
  {
   "cell_type": "code",
   "execution_count": 14,
   "id": "3310de1f",
   "metadata": {},
   "outputs": [
    {
     "name": "stdout",
     "output_type": "stream",
     "text": [
      "parameters:\n",
      " [1.39608905e+04 8.39328527e+01 1.06922323e+00]\n",
      "covariance:\n",
      " [[ 2.91840388e+03  1.65050338e+00  5.40232655e-01]\n",
      " [ 1.65050338e+00  5.34794542e-03 -1.35117438e-03]\n",
      " [ 5.40232655e-01 -1.35117438e-03  2.58539990e-03]]\n"
     ]
    }
   ],
   "source": [
    "print(\"parameters:\\n\", parameters_8V)\n",
    "print(\"covariance:\\n\", covariance_8V)"
   ]
  },
  {
   "cell_type": "code",
   "execution_count": 15,
   "id": "afa7e187",
   "metadata": {},
   "outputs": [
    {
     "data": {
      "image/png": "[encoded data removed]",
      "text/plain": [
       "<Figure size 432x288 with 1 Axes>"
      ]
     },
     "metadata": {
      "needs_background": "light"
     },
     "output_type": "display_data"
    }
   ],
   "source": [
    "plt.plot(xvalues_4V,yvalues_4V,\"o\")\n",
    "plt.plot(xvalues_1V,yvalues_1V,\"o\")\n",
    "plt.plot(xvalues_8V,yvalues_8V,\"o\")\n",
    "# plt.plot(xvalues,fit_y,\"-\")\n",
    "plt.plot(ax,fit_y_4V,\"-\")\n",
    "plt.plot(ax,fit_y_1V,\"-\")\n",
    "plt.plot(ax,fit_y_8V,\"-\")\n",
    "plt.show()"
   ]
  },
  {
   "cell_type": "code",
   "execution_count": 16,
   "id": "e9d56202",
   "metadata": {},
   "outputs": [
    {
     "data": {
      "image/png": "[encoded data removed]",
      "text/plain": [
       "<Figure size 432x288 with 1 Axes>"
      ]
     },
     "metadata": {
      "needs_background": "light"
     },
     "output_type": "display_data"
    }
   ],
   "source": [
    "dead_time = [parameters_1V[1],parameters_4V[1],parameters_8V[1]]\n",
    "ax_voltage = [1,4.5,8]\n",
    "plt.plot(ax_voltage,dead_time,\"o\")\n",
    "plt.show()"
   ]
  },
  {
   "cell_type": "code",
   "execution_count": 17,
   "id": "16ec5c84",
   "metadata": {},
   "outputs": [],
   "source": [
    "def linear(x,A,B):\n",
    "    y = A* x + B\n",
    "    return y"
   ]
  },
  {
   "cell_type": "code",
   "execution_count": 18,
   "id": "2fd6c8a5",
   "metadata": {},
   "outputs": [],
   "source": [
    "parameters_dead, covariance_dead = curve_fit(linear, ax_voltage, dead_time)"
   ]
  },
  {
   "cell_type": "code",
   "execution_count": 19,
   "id": "2cb855f4",
   "metadata": {},
   "outputs": [
    {
     "data": {
      "image/png": "[encoded data removed]",
      "text/plain": [
       "<Figure size 432x288 with 1 Axes>"
      ]
     },
     "metadata": {
      "needs_background": "light"
     },
     "output_type": "display_data"
    }
   ],
   "source": [
    "ax_dead = np.arange(0.,8.,0.1)\n",
    "ay_dead_fit = linear(ax_dead,parameters_dead[0],parameters_dead[1])\n",
    "plt.plot(ax_voltage,dead_time,\"o\")\n",
    "plt.plot(ax_dead,ay_dead_fit,\"-\")\n",
    "plt.show()"
   ]
  },
  {
   "cell_type": "markdown",
   "id": "f48199f5",
   "metadata": {},
   "source": [
    "ok. finally we need to calculate the intersection with the y axis."
   ]
  },
  {
   "cell_type": "code",
   "execution_count": 20,
   "id": "6e1cea90",
   "metadata": {},
   "outputs": [
    {
     "name": "stdout",
     "output_type": "stream",
     "text": [
      "Intersection of y with 0:  72.5042781785658\n"
     ]
    }
   ],
   "source": [
    "intersect = linear(0,parameters_dead[0],parameters_dead[1])\n",
    "print(\"Intersection of y with 0: \", intersect)"
   ]
  }
 ],
 "metadata": {
  "kernelspec": {
   "display_name": "Python 3 (ipykernel)",
   "language": "python",
   "name": "python3"
  },
  "language_info": {
   "codemirror_mode": {
    "name": "ipython",
    "version": 3
   },
   "file_extension": ".py",
   "mimetype": "text/x-python",
   "name": "python",
   "nbconvert_exporter": "python",
   "pygments_lexer": "ipython3",
   "version": "3.9.9"
  }
 },
 "nbformat": 4,
 "nbformat_minor": 5
}
