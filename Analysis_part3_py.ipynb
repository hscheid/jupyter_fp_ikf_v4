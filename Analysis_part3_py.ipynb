{
 "cells": [
  {
   "cell_type": "markdown",
   "id": "b7d34fad",
   "metadata": {},
   "source": [
    "Include useful packages:"
   ]
  },
  {
   "cell_type": "code",
   "execution_count": 95,
   "id": "ead4a668",
   "metadata": {},
   "outputs": [],
   "source": [
    "import os\n",
    "import numpy as np\n",
    "import matplotlib.pyplot as plt\n",
    "from scipy.optimize import curve_fit"
   ]
  },
  {
   "cell_type": "markdown",
   "id": "89db7443",
   "metadata": {},
   "source": [
    "The data points can be stored in numpy arrays"
   ]
  },
  {
   "cell_type": "code",
   "execution_count": 96,
   "id": "ece1d62d",
   "metadata": {},
   "outputs": [],
   "source": [
    "xvalues = np.array([50.0,60.0,70.0,72.0,74.0,76.0,78.0,80.0,90.0,100.0])\n",
    "yvalues = np.array([7000,7000,7000,7300,9540, 12320, 13600, 14000,14000,14000])\n",
    "yerrors = np.array(yvalues.size*[100])\n",
    "\n",
    "ax = np.arange(50,100,0.1) # extra x axis from 50 to 100 in small steps for drawing later\n",
    "# print(ax)"
   ]
  },
  {
   "cell_type": "markdown",
   "id": "49f4b667",
   "metadata": {},
   "source": [
    "Create a plot with the data defined above"
   ]
  },
  {
   "cell_type": "code",
   "execution_count": 97,
   "id": "2cf99f25",
   "metadata": {},
   "outputs": [
    {
     "data": {
      "image/png": "[encoded data removed]",
      "text/plain": [
       "<Figure size 576x576 with 1 Axes>"
      ]
     },
     "metadata": {
      "needs_background": "light"
     },
     "output_type": "display_data"
    }
   ],
   "source": [
    "# plt.rcParams[\"figure.figsize\"] = (8,8)\n",
    "plt.plot(xvalues,yvalues,\"o\")\n",
    "plt.show()"
   ]
  },
  {
   "cell_type": "markdown",
   "id": "0ace36f9",
   "metadata": {},
   "source": [
    "Lets define a function do parametrise the data"
   ]
  },
  {
   "cell_type": "code",
   "execution_count": 98,
   "id": "397cb59b",
   "metadata": {},
   "outputs": [],
   "source": [
    "def fermi(x,A,B,C):\n",
    "    \"\"\"A function with the shape of a fermi-dirac distribution\"\"\"\n",
    "    \"\"\"Todo: Add proper variable names\"\"\"\n",
    "    y = ( A - ( A/ ( np.exp( (x-B) /C ) +2 ) ) )\n",
    "    return y"
   ]
  },
  {
   "cell_type": "markdown",
   "id": "53a3cd93",
   "metadata": {},
   "source": [
    "We use the `curve_fit` function from the scipy optimize module to fit our data."
   ]
  },
  {
   "cell_type": "code",
   "execution_count": 99,
   "id": "8ca70f00",
   "metadata": {},
   "outputs": [],
   "source": [
    "startValues = [14000.,75.,3.]\n",
    "parameters, covariance = curve_fit(fermi, xvalues, yvalues, startValues)\n",
    "# parameters, covariance = curve_fit(fermi, xvalues, yvalues, startValues, yerrors, True)"
   ]
  },
  {
   "cell_type": "code",
   "execution_count": 100,
   "id": "fbced84f",
   "metadata": {},
   "outputs": [
    {
     "name": "stdout",
     "output_type": "stream",
     "text": [
      "fit_A:  13960.890273869798\n",
      "fit_B:  73.93285020108559\n",
      "fit_C:  1.0692251340333283\n",
      "cov: \n",
      " [[ 2.91838770e+03  1.65047173e+00  5.40222706e-01]\n",
      " [ 1.65047173e+00  5.34783495e-03 -1.35114371e-03]\n",
      " [ 5.40222706e-01 -1.35114371e-03  2.58534591e-03]]\n"
     ]
    }
   ],
   "source": [
    "fit_A = parameters[0]\n",
    "fit_B = parameters[1]\n",
    "fit_C = parameters[2]\n",
    "# was:\n",
    "# fit_A = parameters[0]\n",
    "# fit_C = parameters[1]\n",
    "# fit_B = parameters[2]\n",
    "\n",
    "print(\"fit_A: \", fit_A)\n",
    "print(\"fit_B: \", fit_B)\n",
    "print(\"fit_C: \", fit_C)\n",
    "fit_y = fermi(ax,fit_A,fit_B,fit_C)\n",
    "print(\"cov: \\n\", covariance)"
   ]
  },
  {
   "cell_type": "code",
   "execution_count": 101,
   "id": "ecc7e950",
   "metadata": {
    "scrolled": false
   },
   "outputs": [
    {
     "data": {
      "image/png": "[encoded data removed]",
      "text/plain": [
       "<Figure size 576x576 with 1 Axes>"
      ]
     },
     "metadata": {
      "needs_background": "light"
     },
     "output_type": "display_data"
    }
   ],
   "source": [
    "plt.plot(xvalues,yvalues,\"o\")\n",
    "# plt.plot(xvalues,fit_y,\"-\")\n",
    "plt.plot(ax,fit_y,\"-\")\n",
    "plt.show()"
   ]
  },
  {
   "cell_type": "code",
   "execution_count": null,
   "id": "ab8af1b9",
   "metadata": {},
   "outputs": [],
   "source": []
  },
  {
   "cell_type": "code",
   "execution_count": null,
   "id": "4c32af0d",
   "metadata": {},
   "outputs": [],
   "source": []
  }
 ],
 "metadata": {
  "kernelspec": {
   "display_name": "Python 3 (ipykernel)",
   "language": "python",
   "name": "python3"
  },
  "language_info": {
   "codemirror_mode": {
    "name": "ipython",
    "version": 3
   },
   "file_extension": ".py",
   "mimetype": "text/x-python",
   "name": "python",
   "nbconvert_exporter": "python",
   "pygments_lexer": "ipython3",
   "version": "3.9.9"
  }
 },
 "nbformat": 4,
 "nbformat_minor": 5
}
