{
 "cells": [
  {
   "cell_type": "markdown",
   "id": "ea5c1ced",
   "metadata": {},
   "source": [
    "This is a notebook for the fiorst part of the analysis.\n",
    "The first thing we want to do is to include a number of python modules that we will need."
   ]
  },
  {
   "cell_type": "code",
   "execution_count": 4,
   "id": "d4c3086e",
   "metadata": {},
   "outputs": [],
   "source": [
    "import os\n",
    "import numpy as np\n",
    "import matplotlib.pyplot as plt\n",
    "from scipy.optimize import curve_fit"
   ]
  },
  {
   "cell_type": "markdown",
   "id": "365b97e5",
   "metadata": {},
   "source": [
    "The first thing we want to do now is to is to store our measurement in simple lists:"
   ]
  },
  {
   "cell_type": "code",
   "execution_count": 5,
   "id": "5a6ca8c5",
   "metadata": {},
   "outputs": [
    {
     "name": "stdout",
     "output_type": "stream",
     "text": [
      "[19, 21, 22, 24, 25, 25, 25, 26, 26, 27, 27, 27, 27, 27, 27, 27, 27, 28, 28, 28, 28, 28, 29, 29, 29, 31, 32, 32, 32, 32, 32, 32, 33, 33, 34, 34, 35, 35, 35, 36, 36, 36, 36, 37, 38, 39, 40, 40, 40, 41]\n",
      "first:  19\n",
      "last:  41\n",
      "The spread is:  22\n"
     ]
    }
   ],
   "source": [
    "measurment1 = [27,28,32,39,41,36,36,38,27,40,27,36,32,35,28,32,33,29,31,29,\n",
    "               29,40,22,32,25,28,25,32,26,25,34,35,27,27,19,34,28,24,40,27,\n",
    "               27,35,33,26,37,28,32,21,27,36] # at a distance of 6.5cm\n",
    "# we want this sorted, just because\n",
    "measurment1.sort()\n",
    "print(measurment1)\n",
    "# maybe look at the first and last entry\n",
    "print(\"first: \", measurment1[0])\n",
    "print(\"last: \", measurment1[-1])\n",
    "# and get the difference between the two as\n",
    "spread_m1 =  measurment1[-1] - measurment1[0]\n",
    "print(\"The spread is: \", spread_m1)"
   ]
  },
  {
   "cell_type": "markdown",
   "id": "4c4244fc",
   "metadata": {},
   "source": [
    "We can also plot the list as a histogram with a binwidth of 5, from 10 to 50 using the matplot hist function"
   ]
  },
  {
   "cell_type": "code",
   "execution_count": 19,
   "id": "f443c5ae",
   "metadata": {},
   "outputs": [
    {
     "data": {
      "image/png": "[encoded data removed]",
      "text/plain": [
       "<Figure size 432x288 with 1 Axes>"
      ]
     },
     "metadata": {
      "needs_background": "light"
     },
     "output_type": "display_data"
    }
   ],
   "source": [
    "values, bins, patches = plt.hist(measurment1,bins=range(10,51,5)) # take 51, since the upper edge is not included anymore\n",
    "plt.show()"
   ]
  },
  {
   "cell_type": "markdown",
   "id": "aadbe6df",
   "metadata": {},
   "source": [
    "Now we want to actually know the mean $\\left< x_e \\right>$, the standart deviation $\\sigma$, and the mean squared error (MSE) $\\sigma_{s}$ of our distribution.\n",
    "From the introduction we know the mathematical expressions to be:\n",
    "\\begin{equation}\n",
    "    \\left< x_e \\right> = \\frac{1}{N} \\sum_{i=1}^{N} x_i\n",
    "\\end{equation}\n",
    "\n",
    "\\begin{equation}\n",
    "    \\sigma = \\sqrt{ \\left< x_e \\right>  }\n",
    "\\end{equation}\n",
    "\n",
    "\\begin{equation}\n",
    "    \\sigma_s = \\sqrt{\\frac{1}{N-1} \\sum_{i=1}^{N} \\left( x_i - \\left< x_e \\right> \\right)^2 }\n",
    "\\end{equation}\n",
    "\n",
    "To use them comfortable with our data which we will have stored in lists, we need to write these matmatical expressions as python functions, which have as input a list and return the mean, or expectation value."
   ]
  },
  {
   "cell_type": "code",
   "execution_count": 71,
   "id": "82262ac2",
   "metadata": {},
   "outputs": [],
   "source": [
    "def EV (_list):\n",
    "    _sum = 0.\n",
    "    for xi in _list:\n",
    "        _sum += xi\n",
    "    val = _sum/len(_list)\n",
    "    return val"
   ]
  },
  {
   "cell_type": "code",
   "execution_count": 72,
   "id": "041b6006",
   "metadata": {},
   "outputs": [
    {
     "name": "stdout",
     "output_type": "stream",
     "text": [
      "The mean is:  30.74\n",
      "Taking into account the  50  entries\n"
     ]
    }
   ],
   "source": [
    "print(\"The mean is: \", EV(measurment1))\n",
    "print(\"Taking into account the \", len(measurment1), \" entries\")"
   ]
  },
  {
   "cell_type": "markdown",
   "id": "4766f689",
   "metadata": {},
   "source": [
    "We should however save this to a variable. The $\\sqrt{\\left< x_e \\right>}$ can then be calculated using the numpy function: `np.sqrt()`"
   ]
  },
  {
   "cell_type": "code",
   "execution_count": 73,
   "id": "b655d785",
   "metadata": {},
   "outputs": [],
   "source": [
    "mean_m1 = EV(measurment1)\n",
    "sigma_m1 = np.sqrt(mean_m1)"
   ]
  },
  {
   "cell_type": "markdown",
   "id": "606f63f6",
   "metadata": {},
   "source": [
    "The last missing function to define would be the MSE. Can you do this?"
   ]
  },
  {
   "cell_type": "code",
   "execution_count": 74,
   "id": "d1d3661f",
   "metadata": {},
   "outputs": [],
   "source": [
    "def MSE (_mean,_list):\n",
    "# lets start with calculating the sum over the sqared differences (last part of the equation)\n",
    "    _sum = 0.\n",
    "    for xi in _list:\n",
    "        _sum += (xi - _mean)**2\n",
    "    _fac = 1/(len(_list)-1)\n",
    "    val = np.sqrt(_fac*_sum)\n",
    "    return val"
   ]
  },
  {
   "cell_type": "markdown",
   "id": "68a79947",
   "metadata": {},
   "source": [
    "The parameter can then be calculated and printed."
   ]
  },
  {
   "cell_type": "code",
   "execution_count": 75,
   "id": "e5098f45",
   "metadata": {},
   "outputs": [
    {
     "name": "stdout",
     "output_type": "stream",
     "text": [
      "Mean:  5.317702434667954\n"
     ]
    }
   ],
   "source": [
    "mse_m1 = MSE(mean_m1,measurment1)\n",
    "\n",
    "print(\"Mean: \", mse_m1)"
   ]
  },
  {
   "cell_type": "markdown",
   "id": "7424e42c",
   "metadata": {},
   "source": [
    "With the $\\left< x_e \\right>$ and the $\\sigma$ you can now define a list, that defines the bin edges of the 6 class $\\chi^2$ distribution"
   ]
  },
  {
   "cell_type": "code",
   "execution_count": 76,
   "id": "84bbb2f8",
   "metadata": {},
   "outputs": [],
   "source": [
    "ax_chi2_m1 = [mean_m1-3*sigma_m1, mean_m1-2*sigma_m1, mean_m1-sigma_m1, mean_m1,mean_m1+sigma_m1,mean_m1+2*sigma_m1,mean_m1+3*sigma_m1]"
   ]
  },
  {
   "cell_type": "markdown",
   "id": "7c10428e",
   "metadata": {},
   "source": [
    "and now we can plot the measured distribution in the 6 classes of our $\\chi^2$ test with:"
   ]
  },
  {
   "cell_type": "code",
   "execution_count": 79,
   "id": "1f3a6c81",
   "metadata": {},
   "outputs": [
    {
     "data": {
      "image/png": "[encoded data removed]",
      "text/plain": [
       "<Figure size 432x288 with 1 Axes>"
      ]
     },
     "metadata": {
      "needs_background": "light"
     },
     "output_type": "display_data"
    }
   ],
   "source": [
    "values_m1, bins_m1, patches = plt.hist(measurment1,ax_chi2_m1)\n",
    "plt.show()"
   ]
  },
  {
   "cell_type": "code",
   "execution_count": 80,
   "id": "d7160dc8",
   "metadata": {},
   "outputs": [
    {
     "data": {
      "text/plain": [
       "array([ 1.,  6., 18., 18.,  7.,  0.])"
      ]
     },
     "execution_count": 80,
     "metadata": {},
     "output_type": "execute_result"
    }
   ],
   "source": []
  },
  {
   "cell_type": "code",
   "execution_count": null,
   "id": "53eb5372",
   "metadata": {},
   "outputs": [],
   "source": []
  }
 ],
 "metadata": {
  "kernelspec": {
   "display_name": "Python 3 (ipykernel)",
   "language": "python",
   "name": "python3"
  },
  "language_info": {
   "codemirror_mode": {
    "name": "ipython",
    "version": 3
   },
   "file_extension": ".py",
   "mimetype": "text/x-python",
   "name": "python",
   "nbconvert_exporter": "python",
   "pygments_lexer": "ipython3",
   "version": "3.9.10"
  }
 },
 "nbformat": 4,
 "nbformat_minor": 5
}
